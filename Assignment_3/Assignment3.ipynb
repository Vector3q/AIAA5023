{
 "cells": [
  {
   "cell_type": "code",
   "execution_count": null,
   "metadata": {},
   "outputs": [],
   "source": [
    "!pip install diffusers transformers hf_transfer\n",
    "!pip install opencv-python"
   ]
  },
  {
   "cell_type": "code",
   "execution_count": null,
   "metadata": {},
   "outputs": [],
   "source": [
    "!pip install accelerate==0.33.0"
   ]
  },
  {
   "cell_type": "code",
   "execution_count": null,
   "metadata": {},
   "outputs": [],
   "source": [
    "!pip install imageio-ffmpeg\n",
    "\n",
    "!pip install moviepy"
   ]
  },
  {
   "cell_type": "code",
   "execution_count": null,
   "metadata": {},
   "outputs": [],
   "source": [
    "import os\n",
    "os.environ[\"HF_HUB_ENABLE_HF_TRANSFER\"] = \"1\""
   ]
  },
  {
   "cell_type": "code",
   "execution_count": null,
   "metadata": {},
   "outputs": [],
   "source": [
    "import torch\n",
    "from diffusers import AutoencoderKLCogVideoX, CogVideoXImageToVideoPipeline, CogVideoXTransformer3DModel\n",
    "from diffusers.utils import export_to_video, load_video\n",
    "from transformers import T5EncoderModel\n",
    "from moviepy.editor import VideoFileClip, concatenate_videoclips\n",
    "import utils"
   ]
  },
  {
   "cell_type": "code",
   "execution_count": null,
   "metadata": {},
   "outputs": [],
   "source": [
    "# Models: \"THUDM/CogVideoX-2b\" or \"THUDM/CogVideoX-5b\"\n",
    "model_id = \"THUDM/CogVideoX-5b-I2V\""
   ]
  },
  {
   "cell_type": "code",
   "execution_count": null,
   "metadata": {},
   "outputs": [],
   "source": [
    "# Thank you [@camenduru](https://github.com/camenduru)!\n",
    "# The reason for using checkpoints hosted by Camenduru instead of the original is because they exported\n",
    "# with a max_shard_size of \"5GB\" when saving the model with `.save_pretrained`. The original converted\n",
    "# model was saved with \"10GB\" as the max shard size, which causes the Colab CPU RAM to be insufficient\n",
    "# leading to OOM (on the CPU)\n",
    "\n",
    "transformer = CogVideoXTransformer3DModel.from_pretrained(model_id, subfolder=\"transformer\", torch_dtype=torch.float16)\n",
    "text_encoder = T5EncoderModel.from_pretrained(model_id, subfolder=\"text_encoder\", torch_dtype=torch.float16)\n",
    "vae = AutoencoderKLCogVideoX.from_pretrained(model_id, subfolder=\"vae\", torch_dtype=torch.float16)"
   ]
  },
  {
   "cell_type": "code",
   "execution_count": null,
   "metadata": {},
   "outputs": [],
   "source": [
    "# Create pipeline and run inference\n",
    "pipe = CogVideoXImageToVideoPipeline.from_pretrained(\n",
    "    model_id,\n",
    "    text_encoder=text_encoder,\n",
    "    transformer=transformer,\n",
    "    vae=vae,\n",
    "    torch_dtype=torch.float16,\n",
    ")"
   ]
  },
  {
   "cell_type": "code",
   "execution_count": null,
   "metadata": {},
   "outputs": [],
   "source": [
    "pipe.enable_sequential_cpu_offload()\n",
    "# pipe.vae.enable_tiling()"
   ]
  },
  {
   "cell_type": "code",
   "execution_count": null,
   "metadata": {},
   "outputs": [],
   "source": [
    "input_video = load_video(\n",
    "    \"inputDog.mp4\"\n",
    ")\n",
    "\n",
    "last_frame = utils.get_last_frame(\n",
    "    \"inputDog.mp4\"\n",
    ")\n",
    "\n",
    "prompt = (\n",
    "    \"The dog become a real dog.\"\n",
    ")\n",
    "\n",
    "import cv2\n",
    "\n",
    "if last_frame is not None:\n",
    "    cv2.imshow('Last Frame', last_frame)"
   ]
  },
  {
   "cell_type": "code",
   "execution_count": null,
   "metadata": {},
   "outputs": [],
   "source": [
    "video = pipe(image=last_frame, prompt=prompt, guidance_scale=6, use_dynamic_cfg=True, num_inference_steps=50).frames[0]"
   ]
  },
  {
   "cell_type": "code",
   "execution_count": null,
   "metadata": {},
   "outputs": [],
   "source": [
    "\n",
    "\n",
    "export_to_video(video, \"output.mp4\", fps=8)"
   ]
  },
  {
   "cell_type": "code",
   "execution_count": null,
   "metadata": {},
   "outputs": [],
   "source": [
    "export_to_video(input_video, \"input.mp4\", fps=8)\n",
    "\n",
    "video1 = VideoFileClip(\"input.mp4\")  # 替换为你的第一个视频文件名\n",
    "video2 = VideoFileClip(\"output.mp4\")  # 替换为你的第二个视频文件名\n",
    "\n",
    "# 拼接视频\n",
    "final_video = concatenate_videoclips([video1, video2])\n",
    "\n",
    "# 导出最终视频\n",
    "final_video.write_videofile(\"final_video.mp4\", codec=\"libx264\")"
   ]
  },
  {
   "cell_type": "code",
   "execution_count": null,
   "metadata": {},
   "outputs": [],
   "source": [
    "from IPython.display import display, Video\n",
    "display(Video(\"input.mp4\", embed=True))\n",
    "display(Video(\"final_video.mp4\", embed=True))"
   ]
  }
 ],
 "metadata": {
  "language_info": {
   "name": "python"
  },
  "orig_nbformat": 4
 },
 "nbformat": 4,
 "nbformat_minor": 2
}
